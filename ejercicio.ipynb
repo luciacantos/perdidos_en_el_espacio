{
 "cells": [
  {
   "attachments": {},
   "cell_type": "markdown",
   "metadata": {},
   "source": [
    "**PERDIDOS EN EL ESPACIO**"
   ]
  },
  {
   "attachments": {},
   "cell_type": "markdown",
   "metadata": {},
   "source": [
    "Imagina que en el futuro una nave espacial tripulada parte de la Tierra hacia el planeta Neptuno.\n",
    "Durante el viaje, la tripulación permanece en estado de animación suspendida. En el trayecto la nave\n",
    "sufre una grave avería y el sistema automático de control la dirige al cuerpo celeste más cercano,\n",
    "donde realiza un aterrizaje de emergencia. Al posarse sobre la superficie, el sistema de soporte vital\n",
    "de la nave reanima a la tripulación.\n",
    "\n",
    "Una vez despiertos, los tripulantes descubren que el sistema de posicionamiento espacial no\n",
    "funciona y por el momento no tienen comunicación con la Tierra ni pueden mirar al exterior de la\n",
    "nave por razones de seguridad. Así que no saben dónde están, no tienen ningún dato del exterior,\n",
    "ni posibilidad de conseguirlo, ni saben cuánto tiempo ha pasado.\n",
    "En su trayecto entre la Tierra y Neptuno han podido estar cerca de la propia Tierra, Marte, Júpiter,\n",
    "Saturno, Urano, Neptuno y las lunas de cualquiera de ellos."
   ]
  },
  {
   "cell_type": "code",
   "execution_count": 1,
   "metadata": {},
   "outputs": [],
   "source": [
    "import random\n",
    "import pandas as pd\n",
    "import numpy as np\n",
    "import matplotlib.pyplot as plt\n",
    "from sklearn.preprocessing import LabelEncoder\n",
    "import faker "
   ]
  },
  {
   "cell_type": "code",
   "execution_count": 2,
   "metadata": {},
   "outputs": [
    {
     "data": {
      "text/html": [
       "<div>\n",
       "<style scoped>\n",
       "    .dataframe tbody tr th:only-of-type {\n",
       "        vertical-align: middle;\n",
       "    }\n",
       "\n",
       "    .dataframe tbody tr th {\n",
       "        vertical-align: top;\n",
       "    }\n",
       "\n",
       "    .dataframe thead th {\n",
       "        text-align: right;\n",
       "    }\n",
       "</style>\n",
       "<table border=\"1\" class=\"dataframe\">\n",
       "  <thead>\n",
       "    <tr style=\"text-align: right;\">\n",
       "      <th></th>\n",
       "      <th>Tierra</th>\n",
       "      <th>Marte</th>\n",
       "      <th>Júpiter</th>\n",
       "      <th>Saturno</th>\n",
       "      <th>Urano</th>\n",
       "      <th>Neptuno</th>\n",
       "    </tr>\n",
       "  </thead>\n",
       "  <tbody>\n",
       "    <tr>\n",
       "      <th>0</th>\n",
       "      <td>9.8</td>\n",
       "      <td>3.7</td>\n",
       "      <td>24.8</td>\n",
       "      <td>9.0</td>\n",
       "      <td>8.7</td>\n",
       "      <td>11.0</td>\n",
       "    </tr>\n",
       "  </tbody>\n",
       "</table>\n",
       "</div>"
      ],
      "text/plain": [
       "   Tierra  Marte  Júpiter  Saturno  Urano  Neptuno\n",
       "0     9.8    3.7     24.8      9.0    8.7     11.0"
      ]
     },
     "execution_count": 2,
     "metadata": {},
     "output_type": "execute_result"
    }
   ],
   "source": [
    "gravedad = 'Gravedad_planetas.xlsx'\n",
    "pd.read_excel(gravedad)"
   ]
  },
  {
   "attachments": {},
   "cell_type": "markdown",
   "metadata": {},
   "source": [
    "a. Con una longitud L = 100m cronometran t = 0.46s. ¿Cuánto vale g y su error? ¿en qué planeta están o pueden estar?\n",
    "\n"
   ]
  },
  {
   "cell_type": "code",
   "execution_count": 16,
   "metadata": {},
   "outputs": [
    {
     "data": {
      "text/html": [
       "<div>\n",
       "<style scoped>\n",
       "    .dataframe tbody tr th:only-of-type {\n",
       "        vertical-align: middle;\n",
       "    }\n",
       "\n",
       "    .dataframe tbody tr th {\n",
       "        vertical-align: top;\n",
       "    }\n",
       "\n",
       "    .dataframe thead th {\n",
       "        text-align: right;\n",
       "    }\n",
       "</style>\n",
       "<table border=\"1\" class=\"dataframe\">\n",
       "  <thead>\n",
       "    <tr style=\"text-align: right;\">\n",
       "      <th></th>\n",
       "      <th>Gravedad</th>\n",
       "      <th>Intervalo de error</th>\n",
       "    </tr>\n",
       "  </thead>\n",
       "  <tbody>\n",
       "    <tr>\n",
       "      <th>Valor</th>\n",
       "      <td>9.451796</td>\n",
       "      <td>0.913145</td>\n",
       "    </tr>\n",
       "  </tbody>\n",
       "</table>\n",
       "</div>"
      ],
      "text/plain": [
       "       Gravedad  Intervalo de error\n",
       "Valor  9.451796            0.913145"
      ]
     },
     "execution_count": 16,
     "metadata": {},
     "output_type": "execute_result"
    }
   ],
   "source": [
    "# Usando la ecuación de caída libre\n",
    "Longitud_a = 1.00\n",
    "tiempo_a = 0.46\n",
    "gravedad_a = 2*Longitud_a/(tiempo_a**2)\n",
    "\n",
    "\n",
    "# el error se calcula\n",
    "delta_ga = np.sqrt((4*0.01/tiempo_a**2)**2 + (4*Longitud_a*0.01/tiempo_a**4)**2)\n",
    "\n",
    "pd.DataFrame({'Gravedad': [gravedad_a], 'Intervalo de error': [delta_ga]}, index = ['Valor'])\n",
    "\n",
    "\n"
   ]
  },
  {
   "attachments": {},
   "cell_type": "markdown",
   "metadata": {},
   "source": [
    "Viendo que la gravedad obtenida es, dredondeando, 9,45 m/s^2; y el margen de error es de 0.91, podemos deducir que el planeta dónde se ha realizado el experimento puede ser la Tierra o Saturno. En concrero está mas cerca de ser la Tierra."
   ]
  },
  {
   "attachments": {},
   "cell_type": "markdown",
   "metadata": {},
   "source": [
    "b. Con una longitud L = 2.00 m cronometran t = 0.66s. ¿Cuánto vale g y su error? ¿En que planeta están, o pueden estar?"
   ]
  },
  {
   "cell_type": "code",
   "execution_count": 17,
   "metadata": {},
   "outputs": [
    {
     "data": {
      "text/html": [
       "<div>\n",
       "<style scoped>\n",
       "    .dataframe tbody tr th:only-of-type {\n",
       "        vertical-align: middle;\n",
       "    }\n",
       "\n",
       "    .dataframe tbody tr th {\n",
       "        vertical-align: top;\n",
       "    }\n",
       "\n",
       "    .dataframe thead th {\n",
       "        text-align: right;\n",
       "    }\n",
       "</style>\n",
       "<table border=\"1\" class=\"dataframe\">\n",
       "  <thead>\n",
       "    <tr style=\"text-align: right;\">\n",
       "      <th></th>\n",
       "      <th>Gravedad</th>\n",
       "      <th>Intervalo de error</th>\n",
       "    </tr>\n",
       "  </thead>\n",
       "  <tbody>\n",
       "    <tr>\n",
       "      <th>Valor</th>\n",
       "      <td>9.182736</td>\n",
       "      <td>0.431497</td>\n",
       "    </tr>\n",
       "  </tbody>\n",
       "</table>\n",
       "</div>"
      ],
      "text/plain": [
       "       Gravedad  Intervalo de error\n",
       "Valor  9.182736            0.431497"
      ]
     },
     "execution_count": 17,
     "metadata": {},
     "output_type": "execute_result"
    }
   ],
   "source": [
    "Longitud_b = 2.00\n",
    "tiempo_b = 0.66\n",
    "gravedad_b = 2*Longitud_b/(tiempo_b**2)\n",
    "\n",
    "delta_gb = np.sqrt((4*0.01/tiempo_b**2)**2 + (4*Longitud_b*0.01/tiempo_b**4)**2)\n",
    "\n",
    "pd.DataFrame({'Gravedad': [gravedad_b], 'Intervalo de error': [delta_gb]}, index = ['Valor'])"
   ]
  },
  {
   "attachments": {},
   "cell_type": "markdown",
   "metadata": {},
   "source": [
    "En este segundo experimento observamos que los resultados concuerdan con la gravedad de Saturno, y no llegamos ni a considerar estar en la Tierra ya que con el intervalo de error no llegamos a la gravedad de la misma."
   ]
  },
  {
   "attachments": {},
   "cell_type": "markdown",
   "metadata": {},
   "source": [
    "GENERACIÓN DE DATASET"
   ]
  },
  {
   "attachments": {},
   "cell_type": "markdown",
   "metadata": {},
   "source": [
    "Generamos un dataset con número aleatorios uniformes para ver con que frecuencia estamos en cada uno de los planetas."
   ]
  },
  {
   "cell_type": "code",
   "execution_count": 19,
   "metadata": {},
   "outputs": [
    {
     "data": {
      "text/html": [
       "<div>\n",
       "<style scoped>\n",
       "    .dataframe tbody tr th:only-of-type {\n",
       "        vertical-align: middle;\n",
       "    }\n",
       "\n",
       "    .dataframe tbody tr th {\n",
       "        vertical-align: top;\n",
       "    }\n",
       "\n",
       "    .dataframe thead th {\n",
       "        text-align: right;\n",
       "    }\n",
       "</style>\n",
       "<table border=\"1\" class=\"dataframe\">\n",
       "  <thead>\n",
       "    <tr style=\"text-align: right;\">\n",
       "      <th></th>\n",
       "      <th>Longitud (m)</th>\n",
       "      <th>Tiempo (s)</th>\n",
       "      <th>Gravedad Calculada (m/s^2)</th>\n",
       "      <th>Planeta más Probable</th>\n",
       "      <th>Segundo más probable</th>\n",
       "    </tr>\n",
       "  </thead>\n",
       "  <tbody>\n",
       "    <tr>\n",
       "      <th>0</th>\n",
       "      <td>1.16</td>\n",
       "      <td>0.64</td>\n",
       "      <td>5.66</td>\n",
       "      <td>Saturno</td>\n",
       "      <td>Tierra</td>\n",
       "    </tr>\n",
       "    <tr>\n",
       "      <th>1</th>\n",
       "      <td>1.81</td>\n",
       "      <td>0.64</td>\n",
       "      <td>8.84</td>\n",
       "      <td>Saturno</td>\n",
       "      <td>Tierra</td>\n",
       "    </tr>\n",
       "    <tr>\n",
       "      <th>2</th>\n",
       "      <td>0.89</td>\n",
       "      <td>0.59</td>\n",
       "      <td>5.11</td>\n",
       "      <td>Saturno</td>\n",
       "      <td>Tierra</td>\n",
       "    </tr>\n",
       "    <tr>\n",
       "      <th>3</th>\n",
       "      <td>1.46</td>\n",
       "      <td>0.54</td>\n",
       "      <td>10.01</td>\n",
       "      <td>Tierra</td>\n",
       "      <td>Saturno</td>\n",
       "    </tr>\n",
       "    <tr>\n",
       "      <th>4</th>\n",
       "      <td>1.87</td>\n",
       "      <td>0.63</td>\n",
       "      <td>9.42</td>\n",
       "      <td>Tierra</td>\n",
       "      <td>Saturno</td>\n",
       "    </tr>\n",
       "    <tr>\n",
       "      <th>...</th>\n",
       "      <td>...</td>\n",
       "      <td>...</td>\n",
       "      <td>...</td>\n",
       "      <td>...</td>\n",
       "      <td>...</td>\n",
       "    </tr>\n",
       "    <tr>\n",
       "      <th>95</th>\n",
       "      <td>1.35</td>\n",
       "      <td>0.52</td>\n",
       "      <td>9.99</td>\n",
       "      <td>Tierra</td>\n",
       "      <td>Saturno</td>\n",
       "    </tr>\n",
       "    <tr>\n",
       "      <th>96</th>\n",
       "      <td>1.98</td>\n",
       "      <td>0.50</td>\n",
       "      <td>15.84</td>\n",
       "      <td>Tierra</td>\n",
       "      <td>Saturno</td>\n",
       "    </tr>\n",
       "    <tr>\n",
       "      <th>97</th>\n",
       "      <td>1.02</td>\n",
       "      <td>0.69</td>\n",
       "      <td>4.28</td>\n",
       "      <td>Saturno</td>\n",
       "      <td>Tierra</td>\n",
       "    </tr>\n",
       "    <tr>\n",
       "      <th>98</th>\n",
       "      <td>1.46</td>\n",
       "      <td>0.68</td>\n",
       "      <td>6.31</td>\n",
       "      <td>Saturno</td>\n",
       "      <td>Tierra</td>\n",
       "    </tr>\n",
       "    <tr>\n",
       "      <th>99</th>\n",
       "      <td>1.91</td>\n",
       "      <td>0.50</td>\n",
       "      <td>15.28</td>\n",
       "      <td>Tierra</td>\n",
       "      <td>Saturno</td>\n",
       "    </tr>\n",
       "  </tbody>\n",
       "</table>\n",
       "<p>100 rows × 5 columns</p>\n",
       "</div>"
      ],
      "text/plain": [
       "    Longitud (m)  Tiempo (s)  Gravedad Calculada (m/s^2) Planeta más Probable   \n",
       "0           1.16        0.64                        5.66              Saturno  \\\n",
       "1           1.81        0.64                        8.84              Saturno   \n",
       "2           0.89        0.59                        5.11              Saturno   \n",
       "3           1.46        0.54                       10.01               Tierra   \n",
       "4           1.87        0.63                        9.42               Tierra   \n",
       "..           ...         ...                         ...                  ...   \n",
       "95          1.35        0.52                        9.99               Tierra   \n",
       "96          1.98        0.50                       15.84               Tierra   \n",
       "97          1.02        0.69                        4.28              Saturno   \n",
       "98          1.46        0.68                        6.31              Saturno   \n",
       "99          1.91        0.50                       15.28               Tierra   \n",
       "\n",
       "   Segundo más probable  \n",
       "0                Tierra  \n",
       "1                Tierra  \n",
       "2                Tierra  \n",
       "3               Saturno  \n",
       "4               Saturno  \n",
       "..                  ...  \n",
       "95              Saturno  \n",
       "96              Saturno  \n",
       "97               Tierra  \n",
       "98               Tierra  \n",
       "99              Saturno  \n",
       "\n",
       "[100 rows x 5 columns]"
      ]
     },
     "execution_count": 19,
     "metadata": {},
     "output_type": "execute_result"
    }
   ],
   "source": [
    "def  generar_muestra():\n",
    "    Longitud = round(random.uniform(0.8, 2.5), 2)\n",
    "    tiempo = round(random.uniform(0.4, 0.7), 2)\n",
    "    gravedad_calculada = round(2 * Longitud / (tiempo ** 2), 2)\n",
    "\n",
    "    if abs(gravedad_calculada - 9.8) < abs(gravedad_calculada - 9):\n",
    "        planeta_probable = \"Tierra\"\n",
    "        segundo_probable = \"Saturno\"\n",
    "\n",
    "    elif abs(gravedad_calculada - 9) < abs(gravedad_calculada - 9.8):\n",
    "        planeta_probable = \"Saturno\"\n",
    "        segundo_probable = \"Tierra\"\n",
    "    else:\n",
    "        pass\n",
    "\n",
    "\n",
    "    return{\n",
    "        \"Longitud (m)\": Longitud,\n",
    "        \"Tiempo (s)\": tiempo,\n",
    "        \"Gravedad Calculada (m/s^2)\": gravedad_calculada,\n",
    "        \"Planeta más Probable\": planeta_probable,\n",
    "        \"Segundo más probable\": segundo_probable,\n",
    "    }\n",
    "\n",
    "dataset = [generar_muestra() for _ in range(100)]\n",
    "\n",
    "df =pd.DataFrame(dataset)\n",
    "pd.DataFrame(dataset)\n",
    "\n",
    "#df.loc[df [\"Planeta más Probable\"] == \"Tierra\"]"
   ]
  },
  {
   "attachments": {},
   "cell_type": "markdown",
   "metadata": {},
   "source": [
    "GRÁFICAS"
   ]
  },
  {
   "cell_type": "code",
   "execution_count": 20,
   "metadata": {},
   "outputs": [
    {
     "data": {
      "image/png": "[encoded data removed]",
      "text/plain": [
       "<Figure size 640x480 with 4 Axes>"
      ]
     },
     "metadata": {},
     "output_type": "display_data"
    },
    {
     "data": {
      "image/png": "[encoded data removed]",
      "text/plain": [
       "<Figure size 640x480 with 1 Axes>"
      ]
     },
     "metadata": {},
     "output_type": "display_data"
    },
    {
     "name": "stdout",
     "output_type": "stream",
     "text": [
      "                            Longitud (m)  Tiempo (s)   \n",
      "Longitud (m)                    1.000000   -0.215256  \\\n",
      "Tiempo (s)                     -0.215256    1.000000   \n",
      "Gravedad Calculada (m/s^2)      0.754190   -0.760796   \n",
      "Planeta más Probable            0.663170   -0.631025   \n",
      "Segundo más probable           -0.663170    0.631025   \n",
      "\n",
      "                            Gravedad Calculada (m/s^2)  Planeta más Probable   \n",
      "Longitud (m)                                  0.754190              0.663170  \\\n",
      "Tiempo (s)                                   -0.760796             -0.631025   \n",
      "Gravedad Calculada (m/s^2)                    1.000000              0.771606   \n",
      "Planeta más Probable                          0.771606              1.000000   \n",
      "Segundo más probable                         -0.771606             -1.000000   \n",
      "\n",
      "                            Segundo más probable  \n",
      "Longitud (m)                           -0.663170  \n",
      "Tiempo (s)                              0.631025  \n",
      "Gravedad Calculada (m/s^2)             -0.771606  \n",
      "Planeta más Probable                   -1.000000  \n",
      "Segundo más probable                    1.000000  \n"
     ]
    },
    {
     "data": {
      "image/png": "[encoded data removed]",
      "text/plain": [
       "<Figure size 640x480 with 1 Axes>"
      ]
     },
     "metadata": {},
     "output_type": "display_data"
    }
   ],
   "source": [
    "# histogramas\n",
    "df.hist(column=[\"Longitud (m)\", \"Tiempo (s)\", \"Gravedad Calculada (m/s^2)\"])\n",
    "plt.show()\n",
    "\n",
    "# diagrama de dispersión\n",
    "plt.scatter(df[\"Longitud (m)\"], df[\"Tiempo (s)\"])\n",
    "plt.xlabel(\"Longitud (m)\")\n",
    "plt.ylabel(\"Tiempo (s)\")\n",
    "plt.show()\n",
    "\n",
    "# Ccodificar etiquetas de planetas\n",
    "label_encoder = LabelEncoder()\n",
    "df[\"Planeta más Probable\"] = label_encoder.fit_transform(df[\"Planeta más Probable\"])\n",
    "df[\"Segundo más probable\"] = label_encoder.fit_transform(df[\"Segundo más probable\"])\n",
    "\n",
    "# correlación entre variables\n",
    "print(df.corr())\n",
    "\n",
    "# regresión lineal\n",
    "from sklearn.linear_model import LinearRegression\n",
    "\n",
    "X = df[\"Longitud (m)\"].values.reshape(-1, 1)\n",
    "y = df[\"Tiempo (s)\"].values.reshape(-1, 1)\n",
    "\n",
    "model = LinearRegression()\n",
    "model.fit(X, y)\n",
    "\n",
    "y_pred = model.predict(X)\n",
    "\n",
    "# gráfico de regresión lineal\n",
    "plt.scatter(X, y, color=\"green\")\n",
    "plt.plot(X, y_pred, color=\"red\")\n",
    "plt.xlabel(\"Longitud (m)\")\n",
    "plt.ylabel(\"Tiempo (s)\")\n",
    "plt.show()"
   ]
  },
  {
   "attachments": {},
   "cell_type": "markdown",
   "metadata": {},
   "source": [
    " quitar los valores negativos!"
   ]
  }
 ],
 "metadata": {
  "kernelspec": {
   "display_name": "Python 3",
   "language": "python",
   "name": "python3"
  },
  "language_info": {
   "codemirror_mode": {
    "name": "ipython",
    "version": 3
   },
   "file_extension": ".py",
   "mimetype": "text/x-python",
   "name": "python",
   "nbconvert_exporter": "python",
   "pygments_lexer": "ipython3",
   "version": "3.10.11"
  },
  "orig_nbformat": 4
 },
 "nbformat": 4,
 "nbformat_minor": 2
}
